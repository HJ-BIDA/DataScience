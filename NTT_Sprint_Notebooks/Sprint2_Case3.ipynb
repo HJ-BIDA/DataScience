{
 "cells": [
  {
   "cell_type": "code",
   "execution_count": null,
   "id": "ea8ea330",
   "metadata": {},
   "outputs": [],
   "source": [
    "#HANA connector\n",
    "import hana_ml.dataframe as dataframe\n",
    "from notebook_hana_connector.notebook_hana_connector import NotebookConnectionContext\n",
    "#Python stuff\n",
    "import pandas as pd\n",
    "from sklearn.tree import DecisionTreeClassifier # Import Decision Tree Classifier\n",
    "from sklearn.model_selection import train_test_split # Import train_test_split function\n",
    "from sklearn import metrics #Import scikit-learn metrics module for accuracy calculation\n",
    "from sklearn.metrics import classification_report, confusion_matrix\n",
    "import matplotlib.pyplot as plt\n",
    "from sklearn import tree\n",
    "from imblearn.over_sampling import RandomOverSampler\n",
    "from imblearn.under_sampling import RandomUnderSampler\n",
    "import xgboost\n",
    "from xgboost import XGBClassifier\n",
    "from sklearn.metrics import accuracy_score\n",
    "from xgboost import plot_importance\n",
    "from matplotlib import pyplot\n",
    "import imblearn\n",
    "import numpy as np"
   ]
  },
  {
   "cell_type": "code",
   "execution_count": null,
   "id": "9694dc32",
   "metadata": {},
   "outputs": [],
   "source": [
    "conn = NotebookConnectionContext(connectionId = 'hanapoc')"
   ]
  },
  {
   "cell_type": "markdown",
   "id": "16c1133a",
   "metadata": {},
   "source": [
    "Get data"
   ]
  },
  {
   "cell_type": "code",
   "execution_count": null,
   "id": "9f3d679a",
   "metadata": {},
   "outputs": [],
   "source": [
    "sql = (\n",
    "\"select \"\n",
    "\"top 1000 DAYS_BETWEEN(ID_CREDAT, FIRST_ORDER) as TIMETOSHOP, *, \"\n",
    "\"CASE WHEN CUST_CLASS = 'Z0' THEN '0' WHEN CUST_CLASS = 'Z1' then '1' end as CUST_CLASS_INDC, \"\n",
    "\"CASE WHEN (KITCHENS_FIRST_N_WKS_I - KITCHENS_FIRST_N_WKS_R) > 0 THEN '1' ELSE '0' end as KITCHEN_INDC, \"\n",
    "\"CASE WHEN (ORDERS_TOTAL_I - ORDERS_FIRST_N_WKS_I) > 0 THEN '1' else '0' end as REPEATCUSTOMER, \"\n",
    "\"CASE WHEN ORDERS_FIRST_N_WKS = '1' THEN '1' else '0' end as SINGLEORDER_FIRST_N_WKS, \"\n",
    "\"CASE WHEN ID_CREDAT = FIRST_ORDER THEN '1' else '0' end as INSTANTSHOP \"\n",
    "\"from TBL_BWH_CUSTOMERSUMMARY_8WKS \"\n",
    "#\"where NET_VALUE_TOTAL > '0' and ID_CREDAT > '2018' and ID_CREDAT < '2021-10-01' \" \n",
    "\"where ID_CREDAT > '2019' and ID_CREDAT < '2021' \" \n",
    "\"ORDER BY RAND() LIMIT 1000\"\n",
    ")\n",
    "    \n",
    "cust_sel = conn.sql(sql)\n",
    "customers = cust_sel.collect()\n",
    "customers"
   ]
  },
  {
   "cell_type": "markdown",
   "id": "4e8321ef",
   "metadata": {},
   "source": [
    "Show histogram of TIMETOSHOP with 100 bins..."
   ]
  },
  {
   "cell_type": "code",
   "execution_count": null,
   "id": "b7a72ae5",
   "metadata": {},
   "outputs": [],
   "source": [
    "customers['TIMETOSHOP'].plot(kind='hist',bins=100,figsize=(15, 10))"
   ]
  },
  {
   "cell_type": "markdown",
   "id": "74df788f",
   "metadata": {},
   "source": [
    "Get means for repeat customers and all"
   ]
  },
  {
   "cell_type": "code",
   "execution_count": null,
   "id": "edbd5f40",
   "metadata": {},
   "outputs": [],
   "source": [
    "customers.loc[customers['REPEATCUSTOMER'] == '1']['TIMETOSHOP'].describe()"
   ]
  },
  {
   "cell_type": "code",
   "execution_count": null,
   "id": "2b1680a0",
   "metadata": {},
   "outputs": [],
   "source": [
    "customers['TIMETOSHOP'].describe()"
   ]
  }
 ],
 "metadata": {
  "kernelspec": {
   "display_name": "Python 3 (ipykernel)",
   "language": "python",
   "name": "python3"
  },
  "language_info": {
   "codemirror_mode": {
    "name": "ipython",
    "version": 3
   },
   "file_extension": ".py",
   "mimetype": "text/x-python",
   "name": "python",
   "nbconvert_exporter": "python",
   "pygments_lexer": "ipython3",
   "version": "3.9.7"
  }
 },
 "nbformat": 4,
 "nbformat_minor": 5
}
