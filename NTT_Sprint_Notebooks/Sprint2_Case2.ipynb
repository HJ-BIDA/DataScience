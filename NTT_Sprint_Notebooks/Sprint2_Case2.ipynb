{
 "cells": [
  {
   "cell_type": "code",
   "execution_count": null,
   "id": "3b4d8d18",
   "metadata": {},
   "outputs": [],
   "source": [
    "#HANA connector\n",
    "import hana_ml.dataframe as dataframe\n",
    "from notebook_hana_connector.notebook_hana_connector import NotebookConnectionContext\n",
    "#Python stuff\n",
    "import pandas as pd\n",
    "from sklearn.tree import DecisionTreeClassifier # Import Decision Tree Classifier\n",
    "from sklearn.model_selection import train_test_split # Import train_test_split function\n",
    "from sklearn import metrics #Import scikit-learn metrics module for accuracy calculation\n",
    "from sklearn.metrics import classification_report, confusion_matrix\n",
    "import matplotlib.pyplot as plt\n",
    "from sklearn import tree\n",
    "from imblearn.over_sampling import RandomOverSampler\n",
    "from imblearn.under_sampling import RandomUnderSampler\n",
    "import xgboost\n",
    "#from xgboost import XGBClassifier\n",
    "from sklearn.metrics import accuracy_score\n",
    "from xgboost import plot_importance\n",
    "from matplotlib import pyplot\n",
    "import imblearn\n",
    "import numpy as np"
   ]
  },
  {
   "cell_type": "code",
   "execution_count": null,
   "id": "dbdfb380",
   "metadata": {},
   "outputs": [],
   "source": [
    "conn = NotebookConnectionContext(connectionId = 'hanapoc')"
   ]
  },
  {
   "cell_type": "code",
   "execution_count": null,
   "id": "48f6314b",
   "metadata": {},
   "outputs": [],
   "source": [
    "pd.set_option(\"display.max_rows\", 30, \"display.max_columns\", None)\n",
    "pd.options.mode.chained_assignment = None"
   ]
  },
  {
   "cell_type": "markdown",
   "id": "23bc3560",
   "metadata": {},
   "source": [
    "Get data"
   ]
  },
  {
   "cell_type": "code",
   "execution_count": null,
   "id": "1ceaa89f",
   "metadata": {},
   "outputs": [],
   "source": [
    "sql = (\n",
    "\"select \"\n",
    "\"CUSTOMER, ORDERS_FIRST_N_WKS_I, ORDERS_FIRST_N_WKS_R, KITCHENS_FIRST_N_WKS_I, KITCHENS_FIRST_N_WKS_R, CAST(NET_VALUE_FIRST_N_WKS as int) as NET_VALUE_FIRST_N_WKS, CAST(NET_VALUE_AVG_FIRST_N_WKS as int) as NET_VALUE_AVG_FIRST_N_WKS, DISTRICTS_FIRST_N_WKS, \"\n",
    "\"CASE WHEN CUST_CLASS = 'Z0' THEN '0' WHEN CUST_CLASS = 'Z1' then '1' end as CUST_CLASS_INDC, \"\n",
    "\"CASE WHEN (KITCHENS_FIRST_N_WKS_I - KITCHENS_FIRST_N_WKS_R) > 0 THEN '1' ELSE '0' end as KITCHEN_INDC, \"\n",
    "\"CASE WHEN (ORDERS_TOTAL_I - ORDERS_FIRST_N_WKS_I) > 0 THEN '1' else '0' end as REPEATCUSTOMER, \"\n",
    "\"CASE WHEN ORDERS_FIRST_N_WKS = '1' THEN '1' else '0' end as SINGLEORDER_FIRST_N_WKS, \"\n",
    "\"CASE WHEN ID_CREDAT = FIRST_ORDER THEN '1' else '0' end as INSTANTSHOP, \"\n",
    "\"DAYS_BETWEEN(ID_CREDAT, FIRST_ORDER) as TIMETOSHOP \"\n",
    "\"from TBL_BWH_CUSTOMERSUMMARY_ORDATE \"\n",
    "#\"where NET_VALUE_TOTAL > '0' and ID_CREDAT > '2018' and ID_CREDAT < '2021-10-01' \" \n",
    "\"where ORDERS_FIRST_N_WKS > '0' and FIRST_ORDER > '2019' and FIRST_ORDER < '2020-10-10'\" \n",
    "\"ORDER BY RAND() LIMIT 10000\"\n",
    ")\n",
    "    \n",
    "cust_sel = conn.sql(sql)\n",
    "customers = cust_sel.collect()\n",
    "customers"
   ]
  },
  {
   "cell_type": "code",
   "execution_count": null,
   "id": "5b8d5e2d",
   "metadata": {},
   "outputs": [],
   "source": [
    "customers.dtypes"
   ]
  },
  {
   "cell_type": "markdown",
   "id": "9d79c9fc",
   "metadata": {},
   "source": [
    "Formatting"
   ]
  },
  {
   "cell_type": "code",
   "execution_count": null,
   "id": "983d3595",
   "metadata": {},
   "outputs": [],
   "source": [
    "cols = ['ORDERS_FIRST_N_WKS_I', 'ORDERS_FIRST_N_WKS_R','KITCHENS_FIRST_N_WKS_I', 'KITCHENS_FIRST_N_WKS_R', 'NET_VALUE_FIRST_N_WKS', 'NET_VALUE_AVG_FIRST_N_WKS', 'DISTRICTS_FIRST_N_WKS','CUST_CLASS_INDC','KITCHEN_INDC', 'SINGLEORDER_FIRST_N_WKS','INSTANTSHOP']\n",
    "expla = customers[cols]\n",
    "expla['CUST_CLASS_INDC'] = expla['CUST_CLASS_INDC'].astype(float).astype(int)\n",
    "expla['KITCHEN_INDC'] = expla['KITCHEN_INDC'].astype(float).astype(int)\n",
    "expla['SINGLEORDER_FIRST_N_WKS'] = expla['SINGLEORDER_FIRST_N_WKS'].astype(float).astype(int)\n",
    "expla['INSTANTSHOP'] = expla['INSTANTSHOP'].astype(float).astype(int)\n",
    "dep = customers['REPEATCUSTOMER'].astype(float).astype(int)"
   ]
  },
  {
   "cell_type": "markdown",
   "id": "978790d9",
   "metadata": {},
   "source": [
    "Split into 70% train, 30% test"
   ]
  },
  {
   "cell_type": "code",
   "execution_count": null,
   "id": "0cce65fc",
   "metadata": {},
   "outputs": [],
   "source": [
    "X_train, X_test, y_train, y_test = train_test_split(expla, dep, test_size=0.3, random_state=1) # 70% training and 30% test"
   ]
  },
  {
   "cell_type": "markdown",
   "id": "af09053c",
   "metadata": {},
   "source": [
    "Train XGBoost classification model"
   ]
  },
  {
   "cell_type": "code",
   "execution_count": null,
   "id": "684fc87f",
   "metadata": {},
   "outputs": [],
   "source": [
    "model = XGBClassifier(objective='binary:logistic', eval_metric='logloss', n_estimators=300, early_stopping_rounds=50, verbose_eval=50, learning_rate=0.005, scale_pos_weight=0.3, max_depth=4)\n",
    "model.fit(X_train, y_train)"
   ]
  },
  {
   "cell_type": "markdown",
   "id": "ad38cbf6",
   "metadata": {},
   "source": [
    "Calculate accuracy using test dataset"
   ]
  },
  {
   "cell_type": "code",
   "execution_count": null,
   "id": "a64c7276",
   "metadata": {},
   "outputs": [],
   "source": [
    "# make predictions for test data\n",
    "y_pred = model.predict(X_test)\n",
    "predictions = [round(value) for value in y_pred]\n",
    "# evaluate predictions\n",
    "accuracy = accuracy_score(y_test, predictions)\n",
    "print(\"Accuracy: %.2f%%\" % (accuracy * 100.0))"
   ]
  },
  {
   "cell_type": "markdown",
   "id": "bba1dda6",
   "metadata": {},
   "source": [
    "Draw up confusion matrix using test dataset"
   ]
  },
  {
   "cell_type": "code",
   "execution_count": null,
   "id": "eef2cca2",
   "metadata": {},
   "outputs": [],
   "source": [
    "confm = confusion_matrix(y_test, y_pred)\n",
    "\n",
    "cmd_obj = ConfusionMatrixDisplay(confm, display_labels=[model.classes_[0], model.classes_[1]])\n",
    "cmd_obj.plot()\n",
    "cmd_obj.ax_.set(\n",
    "                title='Confusion Matrix', \n",
    "                xlabel='Predicted', \n",
    "                ylabel='Actual')\n",
    "plt.show()"
   ]
  },
  {
   "cell_type": "markdown",
   "id": "d94f5e25",
   "metadata": {},
   "source": [
    "Plot feature importance of trained model"
   ]
  },
  {
   "cell_type": "code",
   "execution_count": null,
   "id": "e616168e",
   "metadata": {},
   "outputs": [],
   "source": [
    "plot_importance(model)"
   ]
  },
  {
   "cell_type": "code",
   "execution_count": null,
   "id": "4995a49a",
   "metadata": {},
   "outputs": [],
   "source": []
  }
 ],
 "metadata": {
  "kernelspec": {
   "display_name": "Python 3 (ipykernel)",
   "language": "python",
   "name": "python3"
  },
  "language_info": {
   "codemirror_mode": {
    "name": "ipython",
    "version": 3
   },
   "file_extension": ".py",
   "mimetype": "text/x-python",
   "name": "python",
   "nbconvert_exporter": "python",
   "pygments_lexer": "ipython3",
   "version": "3.9.7"
  }
 },
 "nbformat": 4,
 "nbformat_minor": 5
}
