{
 "cells": [
  {
   "cell_type": "code",
   "execution_count": null,
   "id": "f3718b9c",
   "metadata": {},
   "outputs": [],
   "source": [
    "import hana_ml.dataframe as dataframe\n",
    "from notebook_hana_connector.notebook_hana_connector import NotebookConnectionContext\n",
    "import pandas as pd\n",
    "import warnings\n",
    "from itertools import permutations\n",
    "import numpy as np\n",
    "import matplotlib.pyplot as plt\n",
    "import seaborn as sns\n",
    "import pandas as pd"
   ]
  },
  {
   "cell_type": "code",
   "execution_count": null,
   "id": "43181c21",
   "metadata": {},
   "outputs": [],
   "source": [
    "warnings.filterwarnings('ignore')\n",
    "pd.set_option(\"display.max_rows\", None, \"display.max_columns\", None)"
   ]
  },
  {
   "cell_type": "code",
   "execution_count": null,
   "id": "cb3428fe",
   "metadata": {},
   "outputs": [],
   "source": [
    "conn = NotebookConnectionContext(connectionId = 'hanapoc')"
   ]
  },
  {
   "cell_type": "markdown",
   "id": "e704cccb",
   "metadata": {},
   "source": [
    "Get data"
   ]
  },
  {
   "cell_type": "code",
   "execution_count": null,
   "id": "aae941f5",
   "metadata": {},
   "outputs": [],
   "source": [
    "sql = (\n",
    "\"select \"\n",
    "\"top 2000 * \"\n",
    "\"from VW_MES_CHANGEOVER_SUMMARY \"\n",
    "\"where WORKCENTRE = 'RIGID05' \"\n",
    "#\"and CHANGEOVER_COUNT > 2 \"\n",
    "#\"and MATERIAL_FROM = 'RKC1230' \"\n",
    "#\"and MATERIAL_TO = 'RKC1133'\"\n",
    "#\"order by AVG_CHANGEOVER_DURATION desc\"\n",
    "#\"and MATERIAL_FROM = 'RKC8134' \"\n",
    "\"order by AVG_CHANGEOVER_DURATION desc\"\n",
    "\n",
    ")\n",
    "    \n",
    "po_sel = conn.sql(sql)\n",
    "pos = po_sel.collect()\n",
    "pos"
   ]
  },
  {
   "cell_type": "markdown",
   "id": "dfdcf07b",
   "metadata": {},
   "source": [
    "Formatting"
   ]
  },
  {
   "cell_type": "code",
   "execution_count": null,
   "id": "2a0b98d5",
   "metadata": {},
   "outputs": [],
   "source": [
    "un_from = pos.drop_duplicates(['MATERIAL_FROM'])['MATERIAL_FROM']\n",
    "un_to = pos.drop_duplicates(['MATERIAL_TO'])['MATERIAL_TO']\n",
    "comb = pd.DataFrame(un_from.append(un_to), columns=['MATERIAL_CONCAT']).drop_duplicates(['MATERIAL_CONCAT'])\n",
    "comb\n",
    "comb_chan = comb + '_' + comb\n",
    "comb_chan\n",
    "comb_chan['AVG_CHANGEOVER_DURATION'] = 0\n",
    "comb_chan['CHANGEOVER_COUNT'] = 0\n",
    "inter_pos = pos.drop(['PLANT', 'WORKCENTRE','OPERATION','MATERIAL_FROM','MATERIAL_TO'], axis=1)\n",
    "inter = inter_pos.append(comb_chan, ignore_index=True)"
   ]
  },
  {
   "cell_type": "markdown",
   "id": "193ede20",
   "metadata": {},
   "source": [
    "Define function to perform permutations given a start, bundle and end"
   ]
  },
  {
   "cell_type": "code",
   "execution_count": null,
   "id": "b489f628",
   "metadata": {},
   "outputs": [],
   "source": [
    "def prod_plan(start, demand, end):\n",
    "    p = permutations(demand)\n",
    "    data = pd.DataFrame(columns=['sequence'])\n",
    "    k=0\n",
    "    for i in list(p):\n",
    "        df = pd.DataFrame()\n",
    "        i = (start,) + i + (end,)\n",
    "        res = tuple(j + '_' + k for j, k in zip(i, i[1:]))\n",
    "        list_res = list(res)\n",
    "        \n",
    "        df['changeover'] = pd.DataFrame(list_res)  \n",
    "        listToStr = '_'.join([str(elem) for elem in i])\n",
    "        df['sequence'] = '_'.join([str(elem) for elem in i])\n",
    "        if k == 0:\n",
    "            df['orig'] = 1\n",
    "        else:\n",
    "            df['orig'] = 0\n",
    "        data = data.append(df, ignore_index=True)\n",
    "        k = k+1\n",
    "    data1 = data.drop_duplicates(subset=['sequence', 'changeover'],keep='first')\n",
    "#    print(data1)\n",
    "    return(data1)"
   ]
  },
  {
   "cell_type": "markdown",
   "id": "7e52ea5f",
   "metadata": {},
   "source": [
    "Define a function to aggregate the changeover time for sequences"
   ]
  },
  {
   "cell_type": "code",
   "execution_count": null,
   "id": "1986adf8",
   "metadata": {},
   "outputs": [],
   "source": [
    "def calc_times(dat):\n",
    "    times = dat.merge(inter, left_on='changeover', right_on='MATERIAL_CONCAT', how='left')\n",
    "    times['AVG_CHANGEOVER_DURATION'] = times['AVG_CHANGEOVER_DURATION'].astype(float)\n",
    "    times['flag'] = np.where(times.notna().all(axis=1), 0, 1)\n",
    "#    print(times)\n",
    "    result = times.groupby(['sequence'])['AVG_CHANGEOVER_DURATION','flag','orig'].sum()\n",
    "    result_final = result[result.flag == 0].sort_values(by=['AVG_CHANGEOVER_DURATION'])\n",
    "    result_final.loc[result_final['orig'] > 0, 'orig'] = 'original'\n",
    "#    print(result_final)\n",
    "    result_final.drop('flag', axis=1, inplace=True)\n",
    "    result_final['orig'].iloc[0] = 'best'\n",
    "    result_final['orig'].iloc[-1] = 'worst'\n",
    "\n",
    "    result_final.insert(0, 'id', range(1, 1 + len(result_final)))\n",
    "    return(result_final)"
   ]
  },
  {
   "cell_type": "markdown",
   "id": "75cf288d",
   "metadata": {},
   "source": [
    "Combine functions to simulate all (possible) sequences"
   ]
  },
  {
   "cell_type": "code",
   "execution_count": null,
   "id": "b9147202",
   "metadata": {},
   "outputs": [],
   "source": [
    "#opt, best, worst = calc_times(prod_plan('RKC8134',['RKC8707','RKC8133','HCB1133','RKC1230'] ,'RKC8705'))\n",
    "#opt = calc_times(prod_plan('RKC8134',['RKC8707','RKC8133','HCB1133','HCB1133'] ,'RKC8705'))\n",
    "#opt = calc_times(prod_plan('RKC1230',['HCB1134','HCB1133','RKC8707','HCB1230','RKC1230','RKC1705','RKC8133','RKC1230'],'RKC8230'))\n",
    "opt = calc_times(prod_plan('RKC8230',['RKC8707','RKC8230','HCB1133','RKC1230'],'RKC1133'))\n",
    "opt"
   ]
  },
  {
   "cell_type": "markdown",
   "id": "5573cfe5",
   "metadata": {},
   "source": [
    "Plot all simulated production sequences"
   ]
  },
  {
   "cell_type": "code",
   "execution_count": null,
   "id": "7e8583cf",
   "metadata": {},
   "outputs": [],
   "source": [
    "plt.xticks(opt['id'])\n",
    "sns.scatterplot(x=\"id\", y=\"AVG_CHANGEOVER_DURATION\", data=opt, hue=\"orig\")"
   ]
  },
  {
   "cell_type": "markdown",
   "id": "f0400bac",
   "metadata": {},
   "source": [
    "Calculate the factorial(n!) of given number n"
   ]
  },
  {
   "cell_type": "code",
   "execution_count": null,
   "id": "822f38cd",
   "metadata": {},
   "outputs": [],
   "source": [
    "n = 12\n",
    "fact = 1\n",
    "  \n",
    "for i in range(1,n+1):\n",
    "    fact = fact * i\n",
    "      \n",
    "print (\"The factorial is : \",end=\"\")\n",
    "print (fact)"
   ]
  }
 ],
 "metadata": {
  "kernelspec": {
   "display_name": "Python 3 (ipykernel)",
   "language": "python",
   "name": "python3"
  },
  "language_info": {
   "codemirror_mode": {
    "name": "ipython",
    "version": 3
   },
   "file_extension": ".py",
   "mimetype": "text/x-python",
   "name": "python",
   "nbconvert_exporter": "python",
   "pygments_lexer": "ipython3",
   "version": "3.9.7"
  }
 },
 "nbformat": 4,
 "nbformat_minor": 5
}
