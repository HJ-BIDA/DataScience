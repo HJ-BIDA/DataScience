{
 "cells": [
  {
   "cell_type": "code",
   "execution_count": null,
   "id": "6c166ce1",
   "metadata": {},
   "outputs": [],
   "source": [
    "import sklearn\n",
    "import numpy as np\n",
    "import pandas as pd\n",
    "from sklearn.model_selection import train_test_split\n",
    "from xgboost import XGBRegressor\n",
    "from sklearn.metrics import accuracy_score\n",
    "from sklearn.metrics import r2_score\n",
    "import warnings\n",
    "warnings.filterwarnings('ignore')\n",
    "import numpy as np\n",
    "import pandas as pd\n",
    "from datetime import datetime\n",
    "from sklearn.model_selection import RandomizedSearchCV, GridSearchCV\n",
    "from sklearn.metrics import roc_auc_score\n",
    "from sklearn.model_selection import StratifiedKFold\n",
    "from xgboost import XGBRegressor\n",
    "from sklearn.preprocessing import LabelBinarizer\n",
    "from xgboost import plot_importance\n",
    "from matplotlib import pyplot\n",
    "import matplotlib.pyplot as plt"
   ]
  },
  {
   "cell_type": "code",
   "execution_count": null,
   "id": "85809c9c",
   "metadata": {},
   "outputs": [],
   "source": [
    "import hana_ml.dataframe as dataframe\n",
    "from notebook_hana_connector.notebook_hana_connector import NotebookConnectionContext\n",
    "conn = NotebookConnectionContext(connectionId = 'hanapoc')"
   ]
  },
  {
   "cell_type": "code",
   "execution_count": null,
   "id": "f0f5bdae",
   "metadata": {},
   "outputs": [],
   "source": [
    "pd.set_option(\"display.max_rows\", 50, \"display.max_columns\", None)"
   ]
  },
  {
   "cell_type": "markdown",
   "id": "fdae8858",
   "metadata": {},
   "source": [
    "Get data"
   ]
  },
  {
   "cell_type": "code",
   "execution_count": null,
   "id": "2cc0b253",
   "metadata": {},
   "outputs": [],
   "source": [
    "sql = (\n",
    "\"select \"\n",
    "\"top 10000 * \"\n",
    "\"from TBL_MES_PRODUCTION_SUMMARY_EXT \"\n",
    "\"where WORKCENTRE = 'RIGID04' and START_TIME > '2021'\"\n",
    ")\n",
    "    \n",
    "po_sel = conn.sql(sql)\n",
    "pos = po_sel.collect()\n",
    "pos"
   ]
  },
  {
   "cell_type": "code",
   "execution_count": null,
   "id": "8a13f122",
   "metadata": {},
   "outputs": [],
   "source": [
    "expla = pos[['MAT_COUNT_PREV_DAY','MAT_COUNT_PREV_WEEK','ACTUAL_DURATION_CALC','NO_OF_CATS','TPM_COUNT_PREV_DAY','MAT_BACK_PNL','MAT_BLANKS','MAT_BOARD','MAT_CABINET','MAT_CAROUSEL','MAT_DRAWER_BX','MAT_DRWBOTTOM','MAT_EDGE_BAND','MAT_FASTENING','MAT_FITTINGS','MAT_GLUE','MAT_GO_FOBLNK','MAT_LEAFLETS','MAT_OBS','MAT_PACKAGING','MAT_PANELS','MAT_PHANTOMS','MAT_PLASTICS','MAT_RAILS','MAT_SELCO_BLK','MAT_SUSPN_BKT']]\n",
    "dep = pos[['UNPLANNED_STOPS']]\n"
   ]
  },
  {
   "cell_type": "markdown",
   "id": "5e84ad55",
   "metadata": {},
   "source": [
    "One-hot-encode the MATERIAL column so that it can be used as input for modelling"
   ]
  },
  {
   "cell_type": "code",
   "execution_count": null,
   "id": "911e9884",
   "metadata": {},
   "outputs": [],
   "source": [
    "jobs_encoder = LabelBinarizer()\n",
    "jobs_encoder.fit(pos['MATERIAL'])\n",
    "transformed = jobs_encoder.transform(pos['MATERIAL'])\n",
    "ohe_df = pd.DataFrame(transformed, columns=jobs_encoder.classes_)\n",
    "data = pd.concat([expla, ohe_df], axis=1)\n",
    "\n",
    "data.head(300)"
   ]
  },
  {
   "cell_type": "markdown",
   "id": "ae9bf865",
   "metadata": {},
   "source": [
    "Split into 70% train, 30% test"
   ]
  },
  {
   "cell_type": "code",
   "execution_count": null,
   "id": "cee483ea",
   "metadata": {},
   "outputs": [],
   "source": [
    "X_train, X_test, y_train, y_test = train_test_split(data, dep, test_size=0.3, random_state=1) # 70% training and 30% test"
   ]
  },
  {
   "cell_type": "markdown",
   "id": "0e7e6231",
   "metadata": {},
   "source": [
    "Fit a XGBoost regression model"
   ]
  },
  {
   "cell_type": "code",
   "execution_count": null,
   "id": "c4c6924f",
   "metadata": {},
   "outputs": [],
   "source": [
    "model = XGBRegressor()\n",
    "model.fit(X_train,y_train)"
   ]
  },
  {
   "cell_type": "markdown",
   "id": "dc96b648",
   "metadata": {},
   "source": [
    "Calculate the R^2 score for the trained regression model"
   ]
  },
  {
   "cell_type": "code",
   "execution_count": null,
   "id": "fa6d4992",
   "metadata": {},
   "outputs": [],
   "source": [
    "# make predictions for test data\n",
    "y_pred = model.predict(X_test)\n",
    "predictions = [round(value) for value in y_pred]\n",
    "# evaluate predictions\n",
    "accuracy = r2_score(y_test, predictions)\n",
    "print(\"R2_score: %.2f%%\" % (accuracy * 100.0))"
   ]
  },
  {
   "cell_type": "markdown",
   "id": "dca6983d",
   "metadata": {},
   "source": [
    "Plot feature importance for the trained model"
   ]
  },
  {
   "cell_type": "code",
   "execution_count": null,
   "id": "a10ff95b",
   "metadata": {},
   "outputs": [],
   "source": [
    "plot_importance(model, max_num_features=20)"
   ]
  },
  {
   "cell_type": "code",
   "execution_count": null,
   "id": "944e009f",
   "metadata": {},
   "outputs": [],
   "source": []
  }
 ],
 "metadata": {
  "kernelspec": {
   "display_name": "Python 3 (ipykernel)",
   "language": "python",
   "name": "python3"
  },
  "language_info": {
   "codemirror_mode": {
    "name": "ipython",
    "version": 3
   },
   "file_extension": ".py",
   "mimetype": "text/x-python",
   "name": "python",
   "nbconvert_exporter": "python",
   "pygments_lexer": "ipython3",
   "version": "3.9.7"
  }
 },
 "nbformat": 4,
 "nbformat_minor": 5
}
