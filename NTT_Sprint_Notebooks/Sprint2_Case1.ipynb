{
 "cells": [
  {
   "cell_type": "code",
   "execution_count": null,
   "id": "6609a337",
   "metadata": {},
   "outputs": [],
   "source": [
    "from sklearn.preprocessing import MinMaxScaler\n",
    "from sklearn.preprocessing import PowerTransformer\n",
    "from sklearn.preprocessing import StandardScaler\n",
    "from sklearn.preprocessing import QuantileTransformer\n",
    "from matplotlib import pyplot\n",
    "from sklearn.cluster import KMeans\n",
    "import numpy as np\n",
    "import pandas as pd\n",
    "import matplotlib.pyplot as plt"
   ]
  },
  {
   "cell_type": "code",
   "execution_count": null,
   "id": "3b26c170",
   "metadata": {},
   "outputs": [],
   "source": [
    "import hana_ml.dataframe as dataframe\n",
    "from notebook_hana_connector.notebook_hana_connector import NotebookConnectionContext\n",
    "conn = NotebookConnectionContext(connectionId = 'hanapoc')"
   ]
  },
  {
   "cell_type": "markdown",
   "id": "4946bb92",
   "metadata": {},
   "source": [
    "Get data"
   ]
  },
  {
   "cell_type": "code",
   "execution_count": null,
   "id": "a2a032b3",
   "metadata": {},
   "outputs": [],
   "source": [
    "sql = (\n",
    "\"select \"\n",
    "#\"ORDERS_TOTAL, KITCHENS_TOTAL, NET_VALUE_TOTAL, NET_VALUE_AVG_TOTAL, AVG_DAYS_BTW_ORDERS, DISTRICTS_TOTAL, ONETIME_ORDER, \"    \n",
    "\"ORDERS_TOTAL, NET_VALUE_TOTAL, DISTRICTS_TOTAL, \"    \n",
    "\"CASE WHEN CUST_CLASS = 'Z0' THEN '0' WHEN CUST_CLASS = 'Z1' then '1' end as CUST_CLASS_INDC, \"\n",
    "#\"(PERIODS_TRADED / PERIODS_AVAIL) as ACTIVITY_INDC, \"\n",
    "\"DAYS_BETWEEN(FIRST_ORDER, LAST_ORDER) as LIFETIME, \"\n",
    "\"ORDERS_TOTAL / (DAYS_BETWEEN(FIRST_ORDER, LAST_ORDER) + 1) as ACTIVITY, \"\n",
    "\"(KITCHENS_TOTAL_I - KITCHENS_TOTAL_R) as KITCHENS_TOTAL, \"\n",
    "#\"1/DAYS_BETWEEN(LAST_ORDER, TO_DATE('2021-11-10','YYYY-MM-DD')) as RECENCY, \"\n",
    "\"CASE WHEN ID_CREDAT = FIRST_ORDER THEN '1' else '0' end as INSTANTSHOP \"\n",
    "\n",
    "\"from TBL_BWH_CUSTOMERSUMMARY_ORDATE \"\n",
    "\"where NOT_TRADED != '1' and FIRST_ORDER > '2019' and FIRST_ORDER < '2021'\" \n",
    "\"ORDER BY RAND() LIMIT 1000\"\n",
    ")\n",
    "    \n",
    "cust_sel = conn.sql(sql)\n",
    "customers = cust_sel.collect()\n",
    "customers"
   ]
  },
  {
   "cell_type": "markdown",
   "id": "a942f912",
   "metadata": {},
   "source": [
    "Formatting"
   ]
  },
  {
   "cell_type": "code",
   "execution_count": null,
   "id": "ce49c4d5",
   "metadata": {},
   "outputs": [],
   "source": [
    "customersform = customers\n",
    "customersform['NET_VALUE_TOTAL'] = customersform['NET_VALUE_TOTAL'].astype(float)\n",
    "#customersform['NET_VALUE_AVG_TOTAL'] = customersform['NET_VALUE_AVG_TOTAL'].astype(float)\n",
    "customersform['CUST_CLASS_INDC'] = customersform['CUST_CLASS_INDC'].astype(float)\n",
    "customersform['ACTIVITY'] = customersform['ACTIVITY'].astype(float)\n",
    "#customersform['RECENCY'] = customersform['RECENCY'].astype(float)\n",
    "customersform['INSTANTSHOP'] = customersform['INSTANTSHOP'].astype(float)"
   ]
  },
  {
   "cell_type": "code",
   "execution_count": null,
   "id": "8ee1c3b7",
   "metadata": {},
   "outputs": [],
   "source": [
    "columnspwr = ['ORDERS_TOTAL','NET_VALUE_TOTAL','DISTRICTS_TOTAL','KITCHENS_TOTAL']\n",
    "columnsquant = ['KITCHENS_TOTAL','INSTANTSHOP','CUST_CLASS_INDC', 'LIFETIME', 'ACTIVITY']\n",
    "columnsall = columnspwr + columnsquant"
   ]
  },
  {
   "cell_type": "markdown",
   "id": "c571cf31",
   "metadata": {},
   "source": [
    "Scale the data by quantiles so that distance measures are scaled as prep for clustering"
   ]
  },
  {
   "cell_type": "code",
   "execution_count": null,
   "id": "82bea986",
   "metadata": {},
   "outputs": [],
   "source": [
    "#scale = MinMaxScaler()\n",
    "#scalepwr = PowerTransformer(method='yeo-johnson')\n",
    "scalepwr = QuantileTransformer(n_quantiles=500, random_state=0)\n",
    "scalequan = QuantileTransformer(n_quantiles=500, random_state=0)\n",
    "\n",
    "for column in customersform[columnspwr].columns.tolist():\n",
    "    scaled = 'scaled_' + column\n",
    "    mod = scalepwr.fit(customersform[column].values.reshape(-1,1))\n",
    "    customersform[scaled] = mod.transform(customersform[column].values.reshape(-1,1))\n",
    "\n",
    "for column in customersform[columnsquant].columns.tolist():\n",
    "    scaled = 'scaled_' + column\n",
    "    mod = scalequan.fit(customersform[column].values.reshape(-1,1))\n",
    "    customersform[scaled] = mod.transform(customersform[column].values.reshape(-1,1))"
   ]
  },
  {
   "cell_type": "code",
   "execution_count": null,
   "id": "e9d4b661",
   "metadata": {},
   "outputs": [],
   "source": [
    "#cust_sub = cust_scaled[['scaled_ACTIVITY','scaled_NET_VALUE_TOTAL','scaled_KITCHENS_TOTAL','scaled_LIFETIME','scaled_ORDERS_TOTAL']]\n",
    "cust_scaled = customersform.filter(regex='^scaled', axis=1)\n",
    "cust_sub = cust_scaled[['scaled_ACTIVITY','scaled_NET_VALUE_TOTAL','scaled_KITCHENS_TOTAL']]"
   ]
  },
  {
   "cell_type": "markdown",
   "id": "fb285731",
   "metadata": {},
   "source": [
    "Fit a KMeans clustering with 3 clusters (for vizualisation purposes)"
   ]
  },
  {
   "cell_type": "code",
   "execution_count": null,
   "id": "e9f00c82",
   "metadata": {},
   "outputs": [],
   "source": [
    "test = cust_sub.filter(regex='^scaled', axis=1)\n",
    "km = KMeans(n_clusters=3)\n",
    "clusters = km.fit_predict(test)\n",
    "test[\"cluster\"] = clusters"
   ]
  },
  {
   "cell_type": "markdown",
   "id": "773ce3c3",
   "metadata": {},
   "source": [
    "View the 3 clusters from different angles"
   ]
  },
  {
   "cell_type": "code",
   "execution_count": null,
   "id": "3f4ca5e1",
   "metadata": {},
   "outputs": [],
   "source": [
    "fig = plt.figure(figsize = (15,15))\n",
    "ax = fig.add_subplot(111, projection='3d')\n",
    "ax.scatter(test[test['cluster'] == 0]['scaled_ACTIVITY'],test[test['cluster'] == 0]['scaled_NET_VALUE_TOTAL'],test[test['cluster'] == 0]['scaled_KITCHENS_TOTAL'], s = 40 , color = 'blue', label = \"cluster 0\")\n",
    "ax.scatter(test[test['cluster'] == 1]['scaled_ACTIVITY'],test[test['cluster'] == 1]['scaled_NET_VALUE_TOTAL'],test[test['cluster'] == 1]['scaled_KITCHENS_TOTAL'], s = 40 , color = 'orange', label = \"cluster 1\")\n",
    "ax.scatter(test[test['cluster'] == 2]['scaled_ACTIVITY'],test[test['cluster'] == 2]['scaled_NET_VALUE_TOTAL'],test[test['cluster'] == 2]['scaled_KITCHENS_TOTAL'], s = 40 , color = 'green', label = \"cluster 2\")\n",
    "ax.set_xlabel('scaled_ACTIVITY')\n",
    "ax.set_ylabel('scaled_NET_VALUE_TOTAL')\n",
    "ax.set_zlabel('scaled_KITCHENS_TOTAL')\n",
    "ax.legend()\n",
    "#1\n",
    "#ax.view_init(90, 0)\n",
    "#2\n",
    "#ax.view_init(10, 25)\n",
    "#3\n",
    "ax.view_init(10, 70)\n",
    "\n",
    "plt.draw()"
   ]
  },
  {
   "cell_type": "markdown",
   "id": "69ac3d6d",
   "metadata": {},
   "source": [
    "Do a proper \"elbow\"-test for deciding number of clusters"
   ]
  },
  {
   "cell_type": "code",
   "execution_count": null,
   "id": "fcf7acff",
   "metadata": {},
   "outputs": [],
   "source": [
    "from sklearn.cluster import KMeans\n",
    "wcss = []\n",
    "for k in range(1,11):\n",
    "    kmeans = KMeans(n_clusters=k, init=\"k-means++\")\n",
    "    kmeans.fit(cust_scaled)\n",
    "    wcss.append(kmeans.inertia_)\n",
    "plt.figure(figsize=(12,6))    \n",
    "plt.grid()\n",
    "plt.plot(range(1,11),wcss, linewidth=2, color=\"red\", marker =\"8\")\n",
    "plt.xlabel(\"K Value\")\n",
    "plt.xticks(np.arange(1,11,1))\n",
    "plt.ylabel(\"WCSS\")\n",
    "plt.show()"
   ]
  },
  {
   "cell_type": "markdown",
   "id": "bedae671",
   "metadata": {},
   "source": [
    "Showing output if model contains more than 3 dimensions..."
   ]
  },
  {
   "cell_type": "code",
   "execution_count": null,
   "id": "4b50e8b0",
   "metadata": {},
   "outputs": [],
   "source": [
    "def display_parallel_coordinates_centroids(df, num_clusters):\n",
    "    '''Display a parallel coordinates plot for the centroids in df'''\n",
    "\n",
    "    # Create the plot\n",
    "    fig = plt.figure(figsize=(12, 5))\n",
    "    title = fig.suptitle(\"Parallel Coordinates plot for the Centroids\", fontsize=18)\n",
    "    fig.subplots_adjust(top=0.9, wspace=0)\n",
    "\n",
    "    # Draw the chart\n",
    "    parallel_coordinates(df, 'cluster', color=palette)\n",
    "\n",
    "    # Stagger the axes\n",
    "    ax=plt.gca()\n",
    "    for tick in ax.xaxis.get_major_ticks()[1::2]:\n",
    "        tick.set_pad(20)   "
   ]
  },
  {
   "cell_type": "code",
   "execution_count": null,
   "id": "069e9cca",
   "metadata": {},
   "outputs": [],
   "source": [
    "def display_parallel_coordinates(df, num_clusters):\n",
    "    '''Display a parallel coordinates plot for the clusters in df'''\n",
    "\n",
    "    # Select data points for individual clusters\n",
    "    cluster_points = []\n",
    "    for i in range(num_clusters):\n",
    "        cluster_points.append(df[df.cluster==i])\n",
    "    \n",
    "    # Create the plot\n",
    "    fig = plt.figure(figsize=(12, 15))\n",
    "    title = fig.suptitle(\"Parallel Coordinates Plot for the Clusters\", fontsize=18)\n",
    "    fig.subplots_adjust(top=0.95, wspace=0)\n",
    "\n",
    "    # Display one plot for each cluster, with the lines for the main cluster appearing over the lines for the other clusters\n",
    "    for i in range(num_clusters):    \n",
    "        plt.subplot(num_clusters, 1, i+1)\n",
    "        for j,c in enumerate(cluster_points): \n",
    "            if i!= j:\n",
    "                pc = parallel_coordinates(c, 'cluster', color=[addAlpha(palette[j],0.2)])\n",
    "        pc = parallel_coordinates(cluster_points[i], 'cluster', color=[addAlpha(palette[i],0.5)])\n",
    "\n",
    "        # Stagger the axes\n",
    "        ax=plt.gca()\n",
    "        for tick in ax.xaxis.get_major_ticks()[1::2]:\n",
    "            tick.set_pad(20)  "
   ]
  },
  {
   "cell_type": "code",
   "execution_count": null,
   "id": "b6db2172",
   "metadata": {},
   "outputs": [],
   "source": [
    "def addAlpha(colour, alpha):\n",
    "    '''Add an alpha to the RGB colour'''\n",
    "    \n",
    "    return (colour[0],colour[1],colour[2],alpha)"
   ]
  },
  {
   "cell_type": "code",
   "execution_count": null,
   "id": "008d1941",
   "metadata": {},
   "outputs": [],
   "source": [
    "# Add the cluster number to the original scaled data\n",
    "X_clustered = pd.DataFrame(cust_scaled, index=cust_scaled.index, columns=cust_scaled.filter(regex='^scaled', axis=1).columns)\n",
    "X_clustered[\"cluster\"] = clusters\n",
    "\n",
    "# Display parallel coordinates plots, one for each cluster\n",
    "display_parallel_coordinates(X_clustered, 3)"
   ]
  }
 ],
 "metadata": {
  "kernelspec": {
   "display_name": "Python 3 (ipykernel)",
   "language": "python",
   "name": "python3"
  },
  "language_info": {
   "codemirror_mode": {
    "name": "ipython",
    "version": 3
   },
   "file_extension": ".py",
   "mimetype": "text/x-python",
   "name": "python",
   "nbconvert_exporter": "python",
   "pygments_lexer": "ipython3",
   "version": "3.9.7"
  }
 },
 "nbformat": 4,
 "nbformat_minor": 5
}
